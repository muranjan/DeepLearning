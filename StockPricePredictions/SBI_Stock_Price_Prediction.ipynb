{
  "nbformat": 4,
  "nbformat_minor": 0,
  "metadata": {
    "colab": {
      "name": "SBI Stock Price Prediction.ipynb",
      "provenance": []
    },
    "kernelspec": {
      "name": "python3",
      "display_name": "Python 3"
    },
    "accelerator": "GPU"
  },
  "cells": [
    {
      "cell_type": "code",
      "metadata": {
        "id": "3R7aEN6__4TY",
        "colab_type": "code",
        "colab": {}
      },
      "source": [
        "import math\n",
        "import pandas_datareader as web\n",
        "import numpy as np\n",
        "import pandas as pd\n",
        "from sklearn.preprocessing import MinMaxScaler\n",
        "from keras.models import Sequential\n",
        "from keras.layers import Dense,LSTM\n",
        "import matplotlib.pyplot as plt\n",
        "plt.style.use(\"fivethirtyeight\") \n",
        "pd.options.mode.chained_assignment = None"
      ],
      "execution_count": 35,
      "outputs": []
    },
    {
      "cell_type": "code",
      "metadata": {
        "id": "8eye1qfOxHRZ",
        "colab_type": "code",
        "colab": {
          "base_uri": "https://localhost:8080/",
          "height": 454
        },
        "outputId": "08a829c8-f642-40a8-973e-963cfd76cb0d"
      },
      "source": [
        "#get the NIFTY Stock code\n",
        "df = web.DataReader('SBIN.NS', data_source='yahoo',start='2000-01-01', end='2020-06-30')\n",
        "print(df.shape)\n",
        "df"
      ],
      "execution_count": 2,
      "outputs": [
        {
          "output_type": "stream",
          "text": [
            "(5062, 6)\n"
          ],
          "name": "stdout"
        },
        {
          "output_type": "execute_result",
          "data": {
            "text/html": [
              "<div>\n",
              "<style scoped>\n",
              "    .dataframe tbody tr th:only-of-type {\n",
              "        vertical-align: middle;\n",
              "    }\n",
              "\n",
              "    .dataframe tbody tr th {\n",
              "        vertical-align: top;\n",
              "    }\n",
              "\n",
              "    .dataframe thead th {\n",
              "        text-align: right;\n",
              "    }\n",
              "</style>\n",
              "<table border=\"1\" class=\"dataframe\">\n",
              "  <thead>\n",
              "    <tr style=\"text-align: right;\">\n",
              "      <th></th>\n",
              "      <th>High</th>\n",
              "      <th>Low</th>\n",
              "      <th>Open</th>\n",
              "      <th>Close</th>\n",
              "      <th>Volume</th>\n",
              "      <th>Adj Close</th>\n",
              "    </tr>\n",
              "    <tr>\n",
              "      <th>Date</th>\n",
              "      <th></th>\n",
              "      <th></th>\n",
              "      <th></th>\n",
              "      <th></th>\n",
              "      <th></th>\n",
              "      <th></th>\n",
              "    </tr>\n",
              "  </thead>\n",
              "  <tbody>\n",
              "    <tr>\n",
              "      <th>2000-01-03</th>\n",
              "      <td>22.988899</td>\n",
              "      <td>22.101999</td>\n",
              "      <td>22.267099</td>\n",
              "      <td>22.988899</td>\n",
              "      <td>25152894.0</td>\n",
              "      <td>1.090844</td>\n",
              "    </tr>\n",
              "    <tr>\n",
              "      <th>2000-01-04</th>\n",
              "      <td>24.720200</td>\n",
              "      <td>22.535999</td>\n",
              "      <td>22.988899</td>\n",
              "      <td>24.446600</td>\n",
              "      <td>47648561.0</td>\n",
              "      <td>1.160014</td>\n",
              "    </tr>\n",
              "    <tr>\n",
              "      <th>2000-01-05</th>\n",
              "      <td>24.975000</td>\n",
              "      <td>23.116301</td>\n",
              "      <td>23.493700</td>\n",
              "      <td>23.441799</td>\n",
              "      <td>36396207.0</td>\n",
              "      <td>1.112335</td>\n",
              "    </tr>\n",
              "    <tr>\n",
              "      <th>2000-01-06</th>\n",
              "      <td>25.286400</td>\n",
              "      <td>23.776699</td>\n",
              "      <td>23.776699</td>\n",
              "      <td>24.625900</td>\n",
              "      <td>70573968.0</td>\n",
              "      <td>1.168522</td>\n",
              "    </tr>\n",
              "    <tr>\n",
              "      <th>2000-01-07</th>\n",
              "      <td>26.409100</td>\n",
              "      <td>24.059799</td>\n",
              "      <td>24.673100</td>\n",
              "      <td>25.786400</td>\n",
              "      <td>83453217.0</td>\n",
              "      <td>1.223588</td>\n",
              "    </tr>\n",
              "    <tr>\n",
              "      <th>...</th>\n",
              "      <td>...</td>\n",
              "      <td>...</td>\n",
              "      <td>...</td>\n",
              "      <td>...</td>\n",
              "      <td>...</td>\n",
              "      <td>...</td>\n",
              "    </tr>\n",
              "    <tr>\n",
              "      <th>2020-06-25</th>\n",
              "      <td>186.800003</td>\n",
              "      <td>180.399994</td>\n",
              "      <td>182.199997</td>\n",
              "      <td>185.250000</td>\n",
              "      <td>73620385.0</td>\n",
              "      <td>185.250000</td>\n",
              "    </tr>\n",
              "    <tr>\n",
              "      <th>2020-06-26</th>\n",
              "      <td>188.600006</td>\n",
              "      <td>183.800003</td>\n",
              "      <td>188.000000</td>\n",
              "      <td>184.600006</td>\n",
              "      <td>49176958.0</td>\n",
              "      <td>184.600006</td>\n",
              "    </tr>\n",
              "    <tr>\n",
              "      <th>2020-06-29</th>\n",
              "      <td>183.100006</td>\n",
              "      <td>178.500000</td>\n",
              "      <td>183.000000</td>\n",
              "      <td>179.250000</td>\n",
              "      <td>50966428.0</td>\n",
              "      <td>179.250000</td>\n",
              "    </tr>\n",
              "    <tr>\n",
              "      <th>2020-06-30</th>\n",
              "      <td>182.899994</td>\n",
              "      <td>177.250000</td>\n",
              "      <td>181.100006</td>\n",
              "      <td>178.449997</td>\n",
              "      <td>43613239.0</td>\n",
              "      <td>178.449997</td>\n",
              "    </tr>\n",
              "    <tr>\n",
              "      <th>2020-07-01</th>\n",
              "      <td>185.399994</td>\n",
              "      <td>178.600006</td>\n",
              "      <td>179.449997</td>\n",
              "      <td>184.800003</td>\n",
              "      <td>54012853.0</td>\n",
              "      <td>184.800003</td>\n",
              "    </tr>\n",
              "  </tbody>\n",
              "</table>\n",
              "<p>5062 rows × 6 columns</p>\n",
              "</div>"
            ],
            "text/plain": [
              "                  High         Low  ...      Volume   Adj Close\n",
              "Date                                ...                        \n",
              "2000-01-03   22.988899   22.101999  ...  25152894.0    1.090844\n",
              "2000-01-04   24.720200   22.535999  ...  47648561.0    1.160014\n",
              "2000-01-05   24.975000   23.116301  ...  36396207.0    1.112335\n",
              "2000-01-06   25.286400   23.776699  ...  70573968.0    1.168522\n",
              "2000-01-07   26.409100   24.059799  ...  83453217.0    1.223588\n",
              "...                ...         ...  ...         ...         ...\n",
              "2020-06-25  186.800003  180.399994  ...  73620385.0  185.250000\n",
              "2020-06-26  188.600006  183.800003  ...  49176958.0  184.600006\n",
              "2020-06-29  183.100006  178.500000  ...  50966428.0  179.250000\n",
              "2020-06-30  182.899994  177.250000  ...  43613239.0  178.449997\n",
              "2020-07-01  185.399994  178.600006  ...  54012853.0  184.800003\n",
              "\n",
              "[5062 rows x 6 columns]"
            ]
          },
          "metadata": {
            "tags": []
          },
          "execution_count": 2
        }
      ]
    },
    {
      "cell_type": "code",
      "metadata": {
        "id": "JUuf88p9ys9t",
        "colab_type": "code",
        "colab": {
          "base_uri": "https://localhost:8080/",
          "height": 517
        },
        "outputId": "a2a179de-241f-4416-b9f0-3516675f27b1"
      },
      "source": [
        "plt.figure(figsize=(16,8))\n",
        "plt.title(\"SBI close price History\")\n",
        "plt.plot(df['Close'])\n",
        "plt.xlabel('Years',fontsize=18)\n",
        "plt.ylabel('SBI Close Price INR',fontsize=18)\n",
        "plt.show()"
      ],
      "execution_count": 3,
      "outputs": [
        {
          "output_type": "display_data",
          "data": {
            "image/png": "[encoded data removed]",
            "text/plain": [
              "<Figure size 1152x576 with 1 Axes>"
            ]
          },
          "metadata": {
            "tags": [],
            "needs_background": "light"
          }
        }
      ]
    },
    {
      "cell_type": "code",
      "metadata": {
        "id": "_DKyPJINzZU2",
        "colab_type": "code",
        "colab": {
          "base_uri": "https://localhost:8080/",
          "height": 34
        },
        "outputId": "f46a7ca4-6a4f-4a80-ebae-209c570d29f4"
      },
      "source": [
        "#Filter data with only 'Close' column\n",
        "data = df.filter(['Close'])\n",
        "\n",
        "#Convert the dataframe to numpy array\n",
        "dataset = data.values\n",
        "\n",
        "#get the no of rows to train the model\n",
        "training_data_len = math.ceil(len(dataset) * .8)\n",
        "\n",
        "training_data_len"
      ],
      "execution_count": 4,
      "outputs": [
        {
          "output_type": "execute_result",
          "data": {
            "text/plain": [
              "4050"
            ]
          },
          "metadata": {
            "tags": []
          },
          "execution_count": 4
        }
      ]
    },
    {
      "cell_type": "code",
      "metadata": {
        "id": "nSjNtxNF3wcN",
        "colab_type": "code",
        "colab": {
          "base_uri": "https://localhost:8080/",
          "height": 141
        },
        "outputId": "c5216756-c961-478b-d69e-bc7e98d9b32f"
      },
      "source": [
        "# Scale the data\n",
        "scalar = MinMaxScaler(feature_range=(0,1))\n",
        "\n",
        "scaled_data = scalar.fit_transform(dataset)\n",
        "\n",
        "scaled_data"
      ],
      "execution_count": 5,
      "outputs": [
        {
          "output_type": "execute_result",
          "data": {
            "text/plain": [
              "array([[0.02685613],\n",
              "       [0.03091597],\n",
              "       [0.0281175 ],\n",
              "       ...,\n",
              "       [0.46205849],\n",
              "       [0.4598304 ],\n",
              "       [0.47751579]])"
            ]
          },
          "metadata": {
            "tags": []
          },
          "execution_count": 5
        }
      ]
    },
    {
      "cell_type": "code",
      "metadata": {
        "id": "a0a44ndd3yFx",
        "colab_type": "code",
        "colab": {}
      },
      "source": [
        "#Create the training dataset\n",
        "train_data = scaled_data[0:training_data_len, :]"
      ],
      "execution_count": 6,
      "outputs": []
    },
    {
      "cell_type": "code",
      "metadata": {
        "id": "bC8QglGvB6cv",
        "colab_type": "code",
        "colab": {
          "base_uri": "https://localhost:8080/",
          "height": 710
        },
        "outputId": "4d069ab6-87c0-4ce3-efb2-755bd4767f1f"
      },
      "source": [
        "#Split the data in x_train and y_train data set\n",
        "x_train = []\n",
        "y_train = []\n",
        "\n",
        "for i in range(60, len(train_data)):\n",
        "  x_train.append(train_data[i-60:i,0])\n",
        "  y_train.append(train_data[i, 0])\n",
        "  if i<= 61:\n",
        "    print(x_train)\n",
        "    print(y_train)\n",
        "    print()\n",
        "\n"
      ],
      "execution_count": 7,
      "outputs": [
        {
          "output_type": "stream",
          "text": [
            "[array([0.02685613, 0.03091597, 0.0281175 , 0.03141534, 0.03464744,\n",
            "       0.03364899, 0.02798605, 0.02714523, 0.0270795 , 0.02568667,\n",
            "       0.02481967, 0.02496394, 0.02693496, 0.02529258, 0.02522685,\n",
            "       0.02282248, 0.02191593, 0.02330848, 0.0281306 , 0.02713214,\n",
            "       0.02760505, 0.02786768, 0.03083716, 0.03007515, 0.0278415 ,\n",
            "       0.02650131, 0.02731595, 0.02820941, 0.02855115, 0.03288699,\n",
            "       0.0295496 , 0.02852469, 0.02852469, 0.02618604, 0.02700068,\n",
            "       0.02513494, 0.02433339, 0.02677732, 0.02615958, 0.02732905,\n",
            "       0.02294057, 0.02489849, 0.02221812, 0.01754054, 0.01856546,\n",
            "       0.01735673, 0.01313897, 0.00984114, 0.00760749, 0.00601776,\n",
            "       0.00947323, 0.01183834, 0.0153069 , 0.01877574, 0.01856546,\n",
            "       0.01549099, 0.01466326, 0.01357262, 0.01547762, 0.0147418 ])]\n",
            "[0.015517171295547874]\n",
            "\n",
            "[array([0.02685613, 0.03091597, 0.0281175 , 0.03141534, 0.03464744,\n",
            "       0.03364899, 0.02798605, 0.02714523, 0.0270795 , 0.02568667,\n",
            "       0.02481967, 0.02496394, 0.02693496, 0.02529258, 0.02522685,\n",
            "       0.02282248, 0.02191593, 0.02330848, 0.0281306 , 0.02713214,\n",
            "       0.02760505, 0.02786768, 0.03083716, 0.03007515, 0.0278415 ,\n",
            "       0.02650131, 0.02731595, 0.02820941, 0.02855115, 0.03288699,\n",
            "       0.0295496 , 0.02852469, 0.02852469, 0.02618604, 0.02700068,\n",
            "       0.02513494, 0.02433339, 0.02677732, 0.02615958, 0.02732905,\n",
            "       0.02294057, 0.02489849, 0.02221812, 0.01754054, 0.01856546,\n",
            "       0.01735673, 0.01313897, 0.00984114, 0.00760749, 0.00601776,\n",
            "       0.00947323, 0.01183834, 0.0153069 , 0.01877574, 0.01856546,\n",
            "       0.01549099, 0.01466326, 0.01357262, 0.01547762, 0.0147418 ]), array([0.03091597, 0.0281175 , 0.03141534, 0.03464744, 0.03364899,\n",
            "       0.02798605, 0.02714523, 0.0270795 , 0.02568667, 0.02481967,\n",
            "       0.02496394, 0.02693496, 0.02529258, 0.02522685, 0.02282248,\n",
            "       0.02191593, 0.02330848, 0.0281306 , 0.02713214, 0.02760505,\n",
            "       0.02786768, 0.03083716, 0.03007515, 0.0278415 , 0.02650131,\n",
            "       0.02731595, 0.02820941, 0.02855115, 0.03288699, 0.0295496 ,\n",
            "       0.02852469, 0.02852469, 0.02618604, 0.02700068, 0.02513494,\n",
            "       0.02433339, 0.02677732, 0.02615958, 0.02732905, 0.02294057,\n",
            "       0.02489849, 0.02221812, 0.01754054, 0.01856546, 0.01735673,\n",
            "       0.01313897, 0.00984114, 0.00760749, 0.00601776, 0.00947323,\n",
            "       0.01183834, 0.0153069 , 0.01877574, 0.01856546, 0.01549099,\n",
            "       0.01466326, 0.01357262, 0.01547762, 0.0147418 , 0.01551717])]\n",
            "[0.015517171295547874, 0.016633992686060015]\n",
            "\n"
          ],
          "name": "stdout"
        }
      ]
    },
    {
      "cell_type": "code",
      "metadata": {
        "id": "VxUFkZkiDNs3",
        "colab_type": "code",
        "colab": {}
      },
      "source": [
        "#Convert the x_train & y_train to numpy arrays\n",
        "\n",
        "x_train, y_train = np.array(x_train),np.array(y_train)"
      ],
      "execution_count": 8,
      "outputs": []
    },
    {
      "cell_type": "code",
      "metadata": {
        "id": "8mI-1tX7FsXS",
        "colab_type": "code",
        "colab": {
          "base_uri": "https://localhost:8080/",
          "height": 52
        },
        "outputId": "5e847a23-105b-465a-aa70-e15cf0ff9725"
      },
      "source": [
        "#Reshape the data\n",
        "print(x_train.shape)\n",
        "x_train = np.reshape(x_train, (x_train.shape[0], x_train.shape[1], 1))\n",
        "print(x_train.shape)"
      ],
      "execution_count": 9,
      "outputs": [
        {
          "output_type": "stream",
          "text": [
            "(3990, 60)\n",
            "(3990, 60, 1)\n"
          ],
          "name": "stdout"
        }
      ]
    },
    {
      "cell_type": "code",
      "metadata": {
        "id": "Dw9uCF2ZGcFd",
        "colab_type": "code",
        "colab": {}
      },
      "source": [
        "# Build the LSTM Model\n",
        "model = Sequential()\n",
        "model.add(LSTM(50, return_sequences=True, input_shape =(x_train.shape[1],1)))\n",
        "model.add(LSTM(50, return_sequences=False))\n",
        "model.add(Dense(25))\n",
        "model.add(Dense(1))"
      ],
      "execution_count": 11,
      "outputs": []
    },
    {
      "cell_type": "code",
      "metadata": {
        "id": "T-Tc-CBEaFrG",
        "colab_type": "code",
        "colab": {}
      },
      "source": [
        "model.compile(optimizer='adam',loss=\"mean_squared_error\")"
      ],
      "execution_count": 12,
      "outputs": []
    },
    {
      "cell_type": "code",
      "metadata": {
        "id": "5aF1ogCPaOlZ",
        "colab_type": "code",
        "colab": {
          "base_uri": "https://localhost:8080/",
          "height": 1000
        },
        "outputId": "8f180b07-b76a-4c1b-8136-86dda2b1a84a"
      },
      "source": [
        "#Train the model\n",
        "model.fit(x_train, y_train, batch_size=64, epochs=100)"
      ],
      "execution_count": 14,
      "outputs": [
        {
          "output_type": "stream",
          "text": [
            "Epoch 1/100\n",
            "3990/3990 [==============================] - 12s 3ms/step - loss: 7.2972e-04\n",
            "Epoch 2/100\n",
            "3990/3990 [==============================] - 12s 3ms/step - loss: 5.5012e-04\n",
            "Epoch 3/100\n",
            "3990/3990 [==============================] - 12s 3ms/step - loss: 5.2721e-04\n",
            "Epoch 4/100\n",
            "3990/3990 [==============================] - 12s 3ms/step - loss: 5.0434e-04\n",
            "Epoch 5/100\n",
            "3990/3990 [==============================] - 12s 3ms/step - loss: 4.9150e-04\n",
            "Epoch 6/100\n",
            "3990/3990 [==============================] - 12s 3ms/step - loss: 4.7165e-04\n",
            "Epoch 7/100\n",
            "3990/3990 [==============================] - 12s 3ms/step - loss: 4.5333e-04\n",
            "Epoch 8/100\n",
            "3990/3990 [==============================] - 12s 3ms/step - loss: 4.3012e-04\n",
            "Epoch 9/100\n",
            "3990/3990 [==============================] - 12s 3ms/step - loss: 4.0846e-04\n",
            "Epoch 10/100\n",
            "3990/3990 [==============================] - 12s 3ms/step - loss: 3.9909e-04\n",
            "Epoch 11/100\n",
            "3990/3990 [==============================] - 12s 3ms/step - loss: 4.1601e-04\n",
            "Epoch 12/100\n",
            "3990/3990 [==============================] - 12s 3ms/step - loss: 3.9058e-04\n",
            "Epoch 13/100\n",
            "3990/3990 [==============================] - 12s 3ms/step - loss: 3.8795e-04\n",
            "Epoch 14/100\n",
            "3990/3990 [==============================] - 12s 3ms/step - loss: 3.5637e-04\n",
            "Epoch 15/100\n",
            "3990/3990 [==============================] - 12s 3ms/step - loss: 3.4985e-04\n",
            "Epoch 16/100\n",
            "3990/3990 [==============================] - 12s 3ms/step - loss: 3.3711e-04\n",
            "Epoch 17/100\n",
            "3990/3990 [==============================] - 12s 3ms/step - loss: 3.2692e-04\n",
            "Epoch 18/100\n",
            "3990/3990 [==============================] - 12s 3ms/step - loss: 3.2104e-04\n",
            "Epoch 19/100\n",
            "3990/3990 [==============================] - 12s 3ms/step - loss: 3.3447e-04\n",
            "Epoch 20/100\n",
            "3990/3990 [==============================] - 12s 3ms/step - loss: 3.0423e-04\n",
            "Epoch 21/100\n",
            "3990/3990 [==============================] - 12s 3ms/step - loss: 2.8756e-04\n",
            "Epoch 22/100\n",
            "3990/3990 [==============================] - 12s 3ms/step - loss: 2.9994e-04\n",
            "Epoch 23/100\n",
            "3990/3990 [==============================] - 12s 3ms/step - loss: 2.8099e-04\n",
            "Epoch 24/100\n",
            "3990/3990 [==============================] - 12s 3ms/step - loss: 2.5672e-04\n",
            "Epoch 25/100\n",
            "3990/3990 [==============================] - 12s 3ms/step - loss: 2.6202e-04\n",
            "Epoch 26/100\n",
            "3990/3990 [==============================] - 12s 3ms/step - loss: 2.6540e-04\n",
            "Epoch 27/100\n",
            "3990/3990 [==============================] - 12s 3ms/step - loss: 2.3743e-04\n",
            "Epoch 28/100\n",
            "3990/3990 [==============================] - 12s 3ms/step - loss: 2.3429e-04\n",
            "Epoch 29/100\n",
            "3990/3990 [==============================] - 12s 3ms/step - loss: 2.5753e-04\n",
            "Epoch 30/100\n",
            "3990/3990 [==============================] - 12s 3ms/step - loss: 2.2828e-04\n",
            "Epoch 31/100\n",
            "3990/3990 [==============================] - 12s 3ms/step - loss: 2.1459e-04\n",
            "Epoch 32/100\n",
            "3990/3990 [==============================] - 12s 3ms/step - loss: 2.0181e-04\n",
            "Epoch 33/100\n",
            "3990/3990 [==============================] - 12s 3ms/step - loss: 1.9998e-04\n",
            "Epoch 34/100\n",
            "3990/3990 [==============================] - 12s 3ms/step - loss: 2.1166e-04\n",
            "Epoch 35/100\n",
            "3990/3990 [==============================] - 12s 3ms/step - loss: 1.9726e-04\n",
            "Epoch 36/100\n",
            "3990/3990 [==============================] - 12s 3ms/step - loss: 1.8273e-04\n",
            "Epoch 37/100\n",
            "3990/3990 [==============================] - 12s 3ms/step - loss: 1.8432e-04\n",
            "Epoch 38/100\n",
            "3990/3990 [==============================] - 12s 3ms/step - loss: 1.6967e-04\n",
            "Epoch 39/100\n",
            "3990/3990 [==============================] - 12s 3ms/step - loss: 1.8159e-04\n",
            "Epoch 40/100\n",
            "3990/3990 [==============================] - 12s 3ms/step - loss: 1.6580e-04\n",
            "Epoch 41/100\n",
            "3990/3990 [==============================] - 12s 3ms/step - loss: 1.8250e-04\n",
            "Epoch 42/100\n",
            "3990/3990 [==============================] - 12s 3ms/step - loss: 1.8981e-04\n",
            "Epoch 43/100\n",
            "3990/3990 [==============================] - 12s 3ms/step - loss: 1.4715e-04\n",
            "Epoch 44/100\n",
            "3990/3990 [==============================] - 12s 3ms/step - loss: 1.4637e-04\n",
            "Epoch 45/100\n",
            "3990/3990 [==============================] - 12s 3ms/step - loss: 1.4993e-04\n",
            "Epoch 46/100\n",
            "3990/3990 [==============================] - 12s 3ms/step - loss: 1.3579e-04\n",
            "Epoch 47/100\n",
            "3990/3990 [==============================] - 12s 3ms/step - loss: 1.6669e-04\n",
            "Epoch 48/100\n",
            "3990/3990 [==============================] - 12s 3ms/step - loss: 1.6656e-04\n",
            "Epoch 49/100\n",
            "3990/3990 [==============================] - 12s 3ms/step - loss: 1.2753e-04\n",
            "Epoch 50/100\n",
            "3990/3990 [==============================] - 12s 3ms/step - loss: 1.4016e-04\n",
            "Epoch 51/100\n",
            "3990/3990 [==============================] - 12s 3ms/step - loss: 1.2830e-04\n",
            "Epoch 52/100\n",
            "3990/3990 [==============================] - 12s 3ms/step - loss: 1.3089e-04\n",
            "Epoch 53/100\n",
            "3990/3990 [==============================] - 12s 3ms/step - loss: 1.2135e-04\n",
            "Epoch 54/100\n",
            "3990/3990 [==============================] - 12s 3ms/step - loss: 1.4035e-04\n",
            "Epoch 55/100\n",
            "3990/3990 [==============================] - 12s 3ms/step - loss: 1.2375e-04\n",
            "Epoch 56/100\n",
            "3990/3990 [==============================] - 12s 3ms/step - loss: 1.2479e-04\n",
            "Epoch 57/100\n",
            "3990/3990 [==============================] - 12s 3ms/step - loss: 1.1741e-04\n",
            "Epoch 58/100\n",
            "3990/3990 [==============================] - 12s 3ms/step - loss: 1.3558e-04\n",
            "Epoch 59/100\n",
            "3990/3990 [==============================] - 12s 3ms/step - loss: 1.2230e-04\n",
            "Epoch 60/100\n",
            "3990/3990 [==============================] - 12s 3ms/step - loss: 1.2649e-04\n",
            "Epoch 61/100\n",
            "3990/3990 [==============================] - 12s 3ms/step - loss: 1.2246e-04\n",
            "Epoch 62/100\n",
            "3990/3990 [==============================] - 12s 3ms/step - loss: 1.1781e-04\n",
            "Epoch 63/100\n",
            "3990/3990 [==============================] - 12s 3ms/step - loss: 1.2398e-04\n",
            "Epoch 64/100\n",
            "3990/3990 [==============================] - 12s 3ms/step - loss: 1.1763e-04\n",
            "Epoch 65/100\n",
            "3990/3990 [==============================] - 12s 3ms/step - loss: 1.3918e-04\n",
            "Epoch 66/100\n",
            "3990/3990 [==============================] - 12s 3ms/step - loss: 1.3035e-04\n",
            "Epoch 67/100\n",
            "3990/3990 [==============================] - 12s 3ms/step - loss: 1.2114e-04\n",
            "Epoch 68/100\n",
            "3990/3990 [==============================] - 12s 3ms/step - loss: 1.4869e-04\n",
            "Epoch 69/100\n",
            "3990/3990 [==============================] - 12s 3ms/step - loss: 1.2816e-04\n",
            "Epoch 70/100\n",
            "3990/3990 [==============================] - 12s 3ms/step - loss: 1.3536e-04\n",
            "Epoch 71/100\n",
            "3990/3990 [==============================] - 12s 3ms/step - loss: 1.2251e-04\n",
            "Epoch 72/100\n",
            "3990/3990 [==============================] - 12s 3ms/step - loss: 1.1482e-04\n",
            "Epoch 73/100\n",
            "3990/3990 [==============================] - 12s 3ms/step - loss: 1.3207e-04\n",
            "Epoch 74/100\n",
            "3990/3990 [==============================] - 12s 3ms/step - loss: 1.2428e-04\n",
            "Epoch 75/100\n",
            "3990/3990 [==============================] - 12s 3ms/step - loss: 1.2538e-04\n",
            "Epoch 76/100\n",
            "3990/3990 [==============================] - 12s 3ms/step - loss: 1.1710e-04\n",
            "Epoch 77/100\n",
            "3990/3990 [==============================] - 12s 3ms/step - loss: 1.3081e-04\n",
            "Epoch 78/100\n",
            "3990/3990 [==============================] - 12s 3ms/step - loss: 1.3744e-04\n",
            "Epoch 79/100\n",
            "3990/3990 [==============================] - 12s 3ms/step - loss: 1.2041e-04\n",
            "Epoch 80/100\n",
            "3990/3990 [==============================] - 12s 3ms/step - loss: 1.1958e-04\n",
            "Epoch 81/100\n",
            "3990/3990 [==============================] - 12s 3ms/step - loss: 1.2940e-04\n",
            "Epoch 82/100\n",
            "3990/3990 [==============================] - 12s 3ms/step - loss: 1.2039e-04\n",
            "Epoch 83/100\n",
            "3990/3990 [==============================] - 12s 3ms/step - loss: 1.3629e-04\n",
            "Epoch 84/100\n",
            "3990/3990 [==============================] - 12s 3ms/step - loss: 1.1833e-04\n",
            "Epoch 85/100\n",
            "3990/3990 [==============================] - 12s 3ms/step - loss: 1.3391e-04\n",
            "Epoch 86/100\n",
            "3990/3990 [==============================] - 12s 3ms/step - loss: 1.1986e-04\n",
            "Epoch 87/100\n",
            "3990/3990 [==============================] - 11s 3ms/step - loss: 1.2470e-04\n",
            "Epoch 88/100\n",
            "3990/3990 [==============================] - 11s 3ms/step - loss: 1.1221e-04\n",
            "Epoch 89/100\n",
            "3990/3990 [==============================] - 11s 3ms/step - loss: 1.2539e-04\n",
            "Epoch 90/100\n",
            "3990/3990 [==============================] - 12s 3ms/step - loss: 1.2458e-04\n",
            "Epoch 91/100\n",
            "3990/3990 [==============================] - 12s 3ms/step - loss: 1.2208e-04\n",
            "Epoch 92/100\n",
            "3990/3990 [==============================] - 12s 3ms/step - loss: 1.1331e-04\n",
            "Epoch 93/100\n",
            "3990/3990 [==============================] - 12s 3ms/step - loss: 1.2791e-04\n",
            "Epoch 94/100\n",
            "3990/3990 [==============================] - 11s 3ms/step - loss: 1.1774e-04\n",
            "Epoch 95/100\n",
            "3990/3990 [==============================] - 11s 3ms/step - loss: 1.2835e-04\n",
            "Epoch 96/100\n",
            "3990/3990 [==============================] - 12s 3ms/step - loss: 1.2381e-04\n",
            "Epoch 97/100\n",
            "3990/3990 [==============================] - 12s 3ms/step - loss: 1.2126e-04\n",
            "Epoch 98/100\n",
            "3990/3990 [==============================] - 12s 3ms/step - loss: 1.1411e-04\n",
            "Epoch 99/100\n",
            "3990/3990 [==============================] - 12s 3ms/step - loss: 1.3039e-04\n",
            "Epoch 100/100\n",
            "3990/3990 [==============================] - 12s 3ms/step - loss: 1.3641e-04\n"
          ],
          "name": "stdout"
        },
        {
          "output_type": "execute_result",
          "data": {
            "text/plain": [
              "<keras.callbacks.callbacks.History at 0x7f7a8c0910b8>"
            ]
          },
          "metadata": {
            "tags": []
          },
          "execution_count": 14
        }
      ]
    },
    {
      "cell_type": "code",
      "metadata": {
        "id": "ck7i4zGAanpW",
        "colab_type": "code",
        "colab": {}
      },
      "source": [
        "#Create the testing data set\n",
        "#create a new array containing sclaed value from index 3990 to 5062\n",
        "test_data = scaled_data[training_data_len - 60:, :]\n",
        "\n",
        "#create the data set x_test and y_test\n",
        "x_test = []\n",
        "y_test = dataset[training_data_len:, :]\n",
        "for i in range(60, len(test_data)):\n",
        "  x_test.append(test_data[i-60:i, 0])"
      ],
      "execution_count": 18,
      "outputs": []
    },
    {
      "cell_type": "code",
      "metadata": {
        "id": "hsFad-3FctFK",
        "colab_type": "code",
        "colab": {}
      },
      "source": [
        "#Convert the data to a numpy array\n",
        "x_test = np.array(x_test)"
      ],
      "execution_count": 19,
      "outputs": []
    },
    {
      "cell_type": "code",
      "metadata": {
        "id": "rMUQp0p7c8Ja",
        "colab_type": "code",
        "colab": {}
      },
      "source": [
        "#Reshape the data\n",
        "x_test = np.reshape(x_test, (x_test.shape[0], x_test.shape[1], 1))"
      ],
      "execution_count": 20,
      "outputs": []
    },
    {
      "cell_type": "code",
      "metadata": {
        "id": "w76mqNYvdIff",
        "colab_type": "code",
        "colab": {}
      },
      "source": [
        "#Get the models predicted prie values\n",
        "predictions = model.predict(x_test)\n",
        "predictions = scalar.inverse_transform(predictions)"
      ],
      "execution_count": 21,
      "outputs": []
    },
    {
      "cell_type": "code",
      "metadata": {
        "id": "_OWFJ50vdoFP",
        "colab_type": "code",
        "colab": {
          "base_uri": "https://localhost:8080/",
          "height": 34
        },
        "outputId": "e8da20ba-91d8-4a5d-89b2-678b5f073400"
      },
      "source": [
        "#Get the root mean squared error (RMSE)\n",
        "rmse = np.sqrt( np.mean( predictions - y_test )**2 )\n",
        "rmse"
      ],
      "execution_count": 23,
      "outputs": [
        {
          "output_type": "execute_result",
          "data": {
            "text/plain": [
              "0.05714212952866385"
            ]
          },
          "metadata": {
            "tags": []
          },
          "execution_count": 23
        }
      ]
    },
    {
      "cell_type": "code",
      "metadata": {
        "id": "q5nNHFT5eFwu",
        "colab_type": "code",
        "colab": {
          "base_uri": "https://localhost:8080/",
          "height": 557
        },
        "outputId": "939f78ba-5a64-44c1-e99c-14d60edab525"
      },
      "source": [
        "#Plot the data\n",
        "train = data[:training_data_len]\n",
        "valid = data[training_data_len:]\n",
        "valid['Predictions'] = predictions\n",
        "\n",
        "#Visualize the data\n",
        "plt.figure(figsize=(16,8))\n",
        "plt.title('Model')\n",
        "plt.xlabel('Date',fontsize=18)\n",
        "plt.ylabel('Close Price INR',fontsize=18)\n",
        "plt.plot(train['Close'],linewidth=1)\n",
        "plt.plot(valid[['Close','Predictions']],linewidth=.5)\n",
        "plt.legend(['Train','Val','Predictions'], loc='lower right',)\n",
        "\n",
        "#leg = plt.legend()\n",
        "# get the individual lines inside legend and set line width\n",
        "#for line in leg.get_lines():\n",
        "  #line.set_linewidth(1)\n",
        "plt.show()\n"
      ],
      "execution_count": 47,
      "outputs": [
        {
          "output_type": "display_data",
          "data": {
            "image/png": "[encoded data removed]",
            "text/plain": [
              "<Figure size 1152x576 with 1 Axes>"
            ]
          },
          "metadata": {
            "tags": []
          }
        }
      ]
    },
    {
      "cell_type": "code",
      "metadata": {
        "id": "HEdGk4MUfnNV",
        "colab_type": "code",
        "colab": {
          "base_uri": "https://localhost:8080/",
          "height": 436
        },
        "outputId": "47b92fa9-4d93-4fbc-c72c-9d4c6daca10f"
      },
      "source": [
        "#Show the valid and predicted prices\n",
        "valid"
      ],
      "execution_count": 48,
      "outputs": [
        {
          "output_type": "execute_result",
          "data": {
            "text/html": [
              "<div>\n",
              "<style scoped>\n",
              "    .dataframe tbody tr th:only-of-type {\n",
              "        vertical-align: middle;\n",
              "    }\n",
              "\n",
              "    .dataframe tbody tr th {\n",
              "        vertical-align: top;\n",
              "    }\n",
              "\n",
              "    .dataframe thead th {\n",
              "        text-align: right;\n",
              "    }\n",
              "</style>\n",
              "<table border=\"1\" class=\"dataframe\">\n",
              "  <thead>\n",
              "    <tr style=\"text-align: right;\">\n",
              "      <th></th>\n",
              "      <th>Close</th>\n",
              "      <th>Predictions</th>\n",
              "    </tr>\n",
              "    <tr>\n",
              "      <th>Date</th>\n",
              "      <th></th>\n",
              "      <th></th>\n",
              "    </tr>\n",
              "  </thead>\n",
              "  <tbody>\n",
              "    <tr>\n",
              "      <th>2016-05-20</th>\n",
              "      <td>171.350006</td>\n",
              "      <td>173.522064</td>\n",
              "    </tr>\n",
              "    <tr>\n",
              "      <th>2016-05-23</th>\n",
              "      <td>168.399994</td>\n",
              "      <td>172.234055</td>\n",
              "    </tr>\n",
              "    <tr>\n",
              "      <th>2016-05-24</th>\n",
              "      <td>169.500000</td>\n",
              "      <td>169.190018</td>\n",
              "    </tr>\n",
              "    <tr>\n",
              "      <th>2016-05-25</th>\n",
              "      <td>175.100006</td>\n",
              "      <td>170.290665</td>\n",
              "    </tr>\n",
              "    <tr>\n",
              "      <th>2016-05-26</th>\n",
              "      <td>184.149994</td>\n",
              "      <td>175.785400</td>\n",
              "    </tr>\n",
              "    <tr>\n",
              "      <th>...</th>\n",
              "      <td>...</td>\n",
              "      <td>...</td>\n",
              "    </tr>\n",
              "    <tr>\n",
              "      <th>2020-06-25</th>\n",
              "      <td>185.250000</td>\n",
              "      <td>184.656235</td>\n",
              "    </tr>\n",
              "    <tr>\n",
              "      <th>2020-06-26</th>\n",
              "      <td>184.600006</td>\n",
              "      <td>185.468475</td>\n",
              "    </tr>\n",
              "    <tr>\n",
              "      <th>2020-06-29</th>\n",
              "      <td>179.250000</td>\n",
              "      <td>184.779099</td>\n",
              "    </tr>\n",
              "    <tr>\n",
              "      <th>2020-06-30</th>\n",
              "      <td>178.449997</td>\n",
              "      <td>179.655136</td>\n",
              "    </tr>\n",
              "    <tr>\n",
              "      <th>2020-07-01</th>\n",
              "      <td>184.800003</td>\n",
              "      <td>179.092239</td>\n",
              "    </tr>\n",
              "  </tbody>\n",
              "</table>\n",
              "<p>1012 rows × 2 columns</p>\n",
              "</div>"
            ],
            "text/plain": [
              "                 Close  Predictions\n",
              "Date                               \n",
              "2016-05-20  171.350006   173.522064\n",
              "2016-05-23  168.399994   172.234055\n",
              "2016-05-24  169.500000   169.190018\n",
              "2016-05-25  175.100006   170.290665\n",
              "2016-05-26  184.149994   175.785400\n",
              "...                ...          ...\n",
              "2020-06-25  185.250000   184.656235\n",
              "2020-06-26  184.600006   185.468475\n",
              "2020-06-29  179.250000   184.779099\n",
              "2020-06-30  178.449997   179.655136\n",
              "2020-07-01  184.800003   179.092239\n",
              "\n",
              "[1012 rows x 2 columns]"
            ]
          },
          "metadata": {
            "tags": []
          },
          "execution_count": 48
        }
      ]
    },
    {
      "cell_type": "code",
      "metadata": {
        "id": "JUJzlIN3mxlU",
        "colab_type": "code",
        "colab": {}
      },
      "source": [
        ""
      ],
      "execution_count": null,
      "outputs": []
    }
  ]
}